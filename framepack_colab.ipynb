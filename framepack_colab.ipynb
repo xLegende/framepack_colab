{
  "nbformat": 4,
  "nbformat_minor": 0,
  "metadata": {
    "colab": {
      "provenance": [],
      "gpuType": "L4"
    },
    "kernelspec": {
      "name": "python3",
      "display_name": "Python 3"
    },
    "language_info": {
      "name": "python"
    },
    "accelerator": "GPU"
  },
  "cells": [
    {
      "cell_type": "markdown",
      "source": [
        "📖 Framepack Colab\n",
        "\n",
        "\n",
        "| |Github|\n",
        "|:--|:-:|\n",
        "| 🏠 **Profile** | [![GitHub](https://img.shields.io/badge/GitHub-%23121011.svg?logo=github&logoColor=white)](https://github.com/xLegende)|\n",
        "| 📘 **Repos** | [![GitHub](https://img.shields.io/badge/GitHub-%23121011.svg?logo=github&logoColor=white)](https://github.com/xLegende/framepack_colab)"
      ],
      "metadata": {
        "id": "ScaK6dVASRRK"
      }
    },
    {
      "cell_type": "code",
      "execution_count": null,
      "metadata": {
        "id": "NeULx8snCgaJ",
        "cellView": "form"
      },
      "outputs": [],
      "source": [
        "# @title 1. Check GPU and Runtime Type\n",
        "!nvidia-smi\n",
        "\n",
        "print(\"\\n---\")\n",
        "# Check memory - FramePack needs >6GB VRAM minimum.\n",
        "# Check disk space - Need >30GB for models + space for outputs/environment.\n",
        "!echo \"--- Disk Space ---\"\n",
        "!df -h /\n",
        "!echo \"--- Memory ---\"\n",
        "!free -h\n",
        "\n",
        "print(\"\\n✅ GPU check complete. Ensure you have an GPU assigned.\")\n",
        "print(\"⚠️ Model files (>30GB) will be downloaded.\")"
      ]
    },
    {
      "cell_type": "code",
      "source": [
        "# @title 2. Mount Google Drive\n",
        "from google.colab import drive\n",
        "drive.mount('/content/drive')\n",
        "\n",
        "print(\"\\n✅ Google Drive mounted at /content/drive/MyDrive.\")"
      ],
      "metadata": {
        "colab": {
          "base_uri": "https://localhost:8080/"
        },
        "id": "nK3ZlMkPCjJO",
        "outputId": "4637c570-20b2-4a1c-dbe8-706a479b38d8",
        "cellView": "form"
      },
      "execution_count": null,
      "outputs": [
        {
          "output_type": "stream",
          "name": "stdout",
          "text": [
            "Mounted at /content/drive\n",
            "\n",
            "✅ Google Drive mounted at /content/drive/MyDrive.\n"
          ]
        }
      ]
    },
    {
      "cell_type": "code",
      "source": [
        "# @title 3. Define Google Drive Output Path\n",
        "\n",
        "#@markdown ---\n",
        "#@markdown **Specify the path within your Google Drive where generated videos should be saved:**\n",
        "#@markdown (e.g., `MyDrive/FramePack_Outputs`)\n",
        "#@markdown The folder will be created if it doesn't exist.\n",
        "gdrive_output_folder_path = \"MyDrive/FramePack_Outputs\" #@param {type:\"string\"}\n",
        "#@markdown ---\n",
        "\n",
        "import os\n",
        "\n",
        "google_drive_mount_point = \"/content/drive\"\n",
        "full_gdrive_output_path = os.path.join(google_drive_mount_point, gdrive_output_folder_path)\n",
        "\n",
        "# Create the output directory on Google Drive if it doesn't exist\n",
        "os.makedirs(full_gdrive_output_path, exist_ok=True)\n",
        "\n",
        "print(f\"✅ Output directory set to: {full_gdrive_output_path}\")\n",
        "print(\"Ensure this path exists or was created successfully.\")\n",
        "\n",
        "os.environ['GDRIVE_OUTPUT_PATH'] = full_gdrive_output_path"
      ],
      "metadata": {
        "id": "yzJxFzuDCkRf",
        "cellView": "form"
      },
      "execution_count": null,
      "outputs": []
    },
    {
      "cell_type": "code",
      "source": [
        "# @title 4. Clone FramePack Repository\n",
        "import os\n",
        "repo_dir = \"FramePack\"\n",
        "if not os.path.exists(repo_dir):\n",
        "    !git clone https://github.com/lllyasviel/FramePack.git\n",
        "    print(\"✅ FramePack repository cloned.\")\n",
        "    %cd FramePack\n",
        "    print(f\"✅ Current directory changed to: {os.getcwd()}\")\n",
        "else:\n",
        "    print(f\"✅ Directory '{repo_dir}' already exists. Skipping clone.\")\n",
        "    current_dir = os.getcwd()\n",
        "    if not current_dir.endswith(repo_dir):\n",
        "        %cd FramePack\n",
        "        print(f\"✅ Current directory changed to: {os.getcwd()}\")\n",
        "    else:\n",
        "        print(f\"✅ Already in directory: {current_dir}\")"
      ],
      "metadata": {
        "id": "wFonTEhMCln7",
        "cellView": "form"
      },
      "execution_count": null,
      "outputs": []
    },
    {
      "cell_type": "code",
      "source": [
        "# @title 5. Install Dependencies\n",
        "#@markdown ---\n",
        "#@markdown This step installs PyTorch and\n",
        "#@markdown other requirements. This can take several minutes.\n",
        "\n",
        "#@markdown ---\n",
        "\n",
        "# Install PyTorch matching common Colab CUDA version (12.1). Adjust if needed.\n",
        "print(\"⏳ Installing PyTorch for CUDA 12.1...\")\n",
        "!pip install torch torchvision torchaudio --index-url https://download.pytorch.org/whl/cu121 -q\n",
        "print(\"✅ PyTorch installed.\")\n",
        "\n",
        "# Install requirements from the repository file\n",
        "import os\n",
        "if not os.getcwd().endswith('FramePack'):\n",
        "    print(\"Changing directory to FramePack...\")\n",
        "    %cd /content/FramePack\n",
        "\n",
        "print(\"⏳ Installing requirements from requirements.txt...\")\n",
        "!pip install -r requirements.txt -q\n",
        "print(\"✅ Repository requirements installed.\")\n",
        "\n",
        "# Install Gradio\n",
        "print(\"⏳ Installing Gradio...\")\n",
        "!pip install gradio -q\n",
        "print(\"✅ Gradio installed.\")\n",
        "\n",
        "print(\"⏳ Installing xformers for potential memory savings...\")\n",
        "!pip install -q xformers --index-url https://download.pytorch.org/whl/cu121\n",
        "print(\"✅ xformers installation attempted.\")\n",
        "\n",
        "\n",
        "print(\"⏳ (Optional) Installing sage-attention...\")\n",
        "!pip install sageattention -q\n",
        "print(\"✅ (Optional) sage-attention installed.\")\n",
        "\n",
        "print(\"\\n✅ All dependency installations attempted.\")\n",
        "print(\"⚠️ Check output above for any errors during installation.\")"
      ],
      "metadata": {
        "id": "32ZAKEZZCm-Z",
        "cellView": "form"
      },
      "execution_count": null,
      "outputs": []
    },
    {
      "cell_type": "code",
      "source": [
        "# @title 6. Run FramePack Gradio Application\n",
        "#@markdown ---\n",
        "#@markdown This cell launches the FramePack Gradio web interface.\n",
        "#@markdown - It will automatically download the models (>30GB) the first time it runs. This can take a long time.\n",
        "#@markdown - A public Gradio link (like `https://....gradio.live`) will appear in the output below. Click this link to open the UI in a new tab.\n",
        "#@markdown ---\n",
        "import os\n",
        "\n",
        "if not os.getcwd().endswith('FramePack'):\n",
        "    print(\"Changing directory to FramePack...\")\n",
        "    %cd /content/FramePack\n",
        "\n",
        "gdrive_output_path = os.environ.get('GDRIVE_OUTPUT_PATH', 'Google Drive Path Not Found - Check Cell 3')\n",
        "\n",
        "print(\"⏳ Launching FramePack Gradio App...\")\n",
        "print(\"‼️ This will start the model download process if running for the first time (>30GB). Please be patient.\")\n",
        "print(f\"⚠️ Remember to check for output files locally (e.g., in /content/FramePack/outputs) and move them to {gdrive_output_path} if needed (using Cell 7).\")\n",
        "\n",
        "# Run the Gradio demo script. --share creates a public link.\n",
        "!python demo_gradio.py --share\n",
        "\n",
        "print(\"\\n🛑 Gradio app execution finished or interrupted.\")\n",
        "print(f\"➡️ If videos were generated, check local folders (like /content/FramePack/outputs/) and consider using Cell 7 to copy desired files to your Google Drive.\")"
      ],
      "metadata": {
        "id": "LvYIgOjnCoM3",
        "cellView": "form"
      },
      "execution_count": null,
      "outputs": []
    },
    {
      "cell_type": "code",
      "source": [
        "# @title (Optional) 7. Manually Copy Outputs to Google Drive\n",
        "#@markdown ---\n",
        "#@markdown If the application saved files locally (e.g., in `/content/FramePack/outputs`),\n",
        "#@markdown you can run this cell **after stopping Cell 6** to copy them to your Google Drive folder.\n",
        "#@markdown ---\n",
        "#@markdown **Enter the local source folder path (relative to /content/FramePack/):**\n",
        "local_output_folder = \"outputs\" #@param {type:\"string\"}\n",
        "#@markdown ---\n",
        "\n",
        "import os\n",
        "import shutil\n",
        "import glob\n",
        "\n",
        "base_repo_path = \"/content/FramePack\"\n",
        "local_source_path = os.path.join(base_repo_path, local_output_folder)\n",
        "\n",
        "target_gdrive_path = os.environ.get('GDRIVE_OUTPUT_PATH')\n",
        "\n",
        "if not target_gdrive_path:\n",
        "    print(\"❌ Error: Google Drive output path not found. Please re-run Cell 3.\")\n",
        "else:\n",
        "    print(f\"Attempting to copy files from: {local_source_path}\")\n",
        "    print(f\"To Google Drive destination: {target_gdrive_path}\")\n",
        "\n",
        "    if os.path.exists(local_source_path):\n",
        "        files_to_copy = glob.glob(os.path.join(local_source_path, \"*\"))\n",
        "\n",
        "        if not files_to_copy:\n",
        "            print(\"No files found in the local source folder.\")\n",
        "        else:\n",
        "            print(f\"Found {len(files_to_copy)} item(s) to potentially copy...\")\n",
        "            copied_count = 0\n",
        "            skipped_count = 0\n",
        "            for item_path in files_to_copy:\n",
        "                item_name = os.path.basename(item_path)\n",
        "                destination_path = os.path.join(target_gdrive_path, item_name)\n",
        "\n",
        "                try:\n",
        "                    if os.path.isfile(item_path):\n",
        "                        shutil.copy2(item_path, destination_path)\n",
        "                        print(f\"Copied File: {item_name}\")\n",
        "                        copied_count += 1\n",
        "                    elif os.path.isdir(item_path):\n",
        "                        print(f\"Skipping Directory: {item_name} (copying only files by default)\")\n",
        "                        skipped_count +=1\n",
        "                    else:\n",
        "                         print(f\"Skipping Unknown Item Type: {item_name}\")\n",
        "                         skipped_count +=1\n",
        "\n",
        "                except Exception as e:\n",
        "                    print(f\"Error copying {item_name}: {e}\")\n",
        "                    skipped_count +=1\n",
        "\n",
        "            print(f\"\\n✅ Finished copying attempt.\")\n",
        "            print(f\"  {copied_count} item(s) copied successfully.\")\n",
        "            if skipped_count > 0:\n",
        "                print(f\"  {skipped_count} item(s) skipped (e.g., directories, errors).\")\n",
        "            print(f\"Check your Drive folder: {target_gdrive_path}\")\n",
        "\n",
        "    else:\n",
        "        print(f\"❌ Local source folder '{local_source_path}' does not exist. Cannot copy files.\")\n",
        "        print(\"Please ensure the 'local_output_folder' name is correct and that the Gradio app generated files there.\")"
      ],
      "metadata": {
        "id": "lplcRgbuCpix",
        "cellView": "form"
      },
      "execution_count": null,
      "outputs": []
    }
  ]
}